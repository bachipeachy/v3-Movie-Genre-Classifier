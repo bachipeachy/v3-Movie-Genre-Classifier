{
 "cells": [
  {
   "cell_type": "markdown",
   "metadata": {},
   "source": [
    "###  Movie-Genre-Classifier-v3 - using Glove NLP Embedding\n"
   ]
  },
  {
   "cell_type": "code",
   "execution_count": 1,
   "metadata": {},
   "outputs": [],
   "source": [
    "import pandas as pd\n",
    "import numpy as np\n",
    "\n",
    "from sklearn.preprocessing import MultiLabelBinarizer\n",
    "import json\n",
    "import re\n",
    "from nltk.corpus import stopwords\n",
    "from nltk.stem.snowball import SnowballStemmer\n",
    "from bs4 import BeautifulSoup\n",
    "from tensorflow.keras.preprocessing.text import Tokenizer\n",
    "from tensorflow.keras.preprocessing.sequence import pad_sequences\n",
    "\n",
    "import matplotlib.pyplot as plt \n",
    "import seaborn as sns\n",
    "\n",
    "from sklearn.model_selection import train_test_split\n",
    "import tensorflow as tf\n",
    "from tensorflow.keras import Sequential\n",
    "from tensorflow.keras import Model\n",
    "from tensorflow.keras.layers import Dense, Embedding, Input, Bidirectional, Dropout, Lambda, LayerNormalization\n",
    "from tensorflow.keras.layers import GRU, GlobalAveragePooling1D, GlobalMaxPooling1D, concatenate, Conv1D\n",
    "\n",
    "from tensorflow.keras.utils import to_categorical\n",
    "from tensorflow.keras.utils import plot_model\n",
    "from tensorflow.keras.callbacks import ReduceLROnPlateau, EarlyStopping, ModelCheckpoint, TensorBoard"
   ]
  },
  {
   "cell_type": "code",
   "execution_count": 2,
   "metadata": {},
   "outputs": [],
   "source": [
    "movie_metadata_file = './data/movie.metadata.tsv'\n",
    "movie_plot_file = './data/plot_summaries.txt'\n",
    "glove_embd_file = \"data/glove.6B.100d.txt\"\n",
    "model_file = './data/movie_model.h5'"
   ]
  },
  {
   "cell_type": "code",
   "execution_count": 3,
   "metadata": {},
   "outputs": [],
   "source": [
    "REPLACE_BY_SPACE_RE = re.compile('[/(){}\\[\\]\\|@,;]')\n",
    "BAD_SYMBOLS_RE = re.compile('[^0-9a-z #+_]')\n",
    "STOPWORDS = set(stopwords.words('english'))\n",
    "\n",
    "VOCAB_WORDLIMIT = 100000\n",
    "SEQUENCE_LEN = 2000\n",
    "EMBD_SIZE = 100\n",
    "\n",
    "BATCH_SIZE = 32\n",
    "EPOCHS = 4\n",
    "LEARNING_RATE = 1e-3\n",
    "\n",
    "top_genre = ['Drama', 'Comedy', 'Romance Film', 'Thriller', 'Action', 'World cinema', 'Crime Fiction', 'Horror']"
   ]
  },
  {
   "cell_type": "code",
   "execution_count": 4,
   "metadata": {},
   "outputs": [],
   "source": [
    "def clean_text(text):\n",
    " text = BeautifulSoup(text, \"lxml\").text\n",
    " text = text.lower() # lowercase text\n",
    " text = REPLACE_BY_SPACE_RE.sub(' ', text)\n",
    " text = BAD_SYMBOLS_RE.sub('', text)\n",
    " text = ' '.join(word for word in text.split() if word not in STOPWORDS)\n",
    " return text"
   ]
  },
  {
   "cell_type": "code",
   "execution_count": 5,
   "metadata": {},
   "outputs": [],
   "source": [
    "stemmer = SnowballStemmer(\"english\")\n",
    "def stemming(sentence):\n",
    "    stemSentence = \"\"\n",
    "    for word in sentence.split():\n",
    "        stem = stemmer.stem(word)\n",
    "        stemSentence += stem\n",
    "        stemSentence += \" \"\n",
    "    stemSentence = stemSentence.strip()\n",
    "    return stemSentence"
   ]
  },
  {
   "cell_type": "code",
   "execution_count": 6,
   "metadata": {},
   "outputs": [],
   "source": [
    "def download_metadata(movie_metadata_file):\n",
    "    df_metadata = pd.read_csv(movie_metadata_file, engine='python', sep = '\\t', header = None,\n",
    "                     quotechar='\"', error_bad_lines=False, warn_bad_lines=False)\n",
    "    df_metadata.head(2)    \n",
    "    return df_metadata"
   ]
  },
  {
   "cell_type": "code",
   "execution_count": 7,
   "metadata": {},
   "outputs": [],
   "source": [
    "df_metadata = download_metadata(movie_metadata_file)"
   ]
  },
  {
   "cell_type": "code",
   "execution_count": 8,
   "metadata": {},
   "outputs": [],
   "source": [
    "def download_plot(movie_plot_file):\n",
    "    df_plot = pd.read_csv(movie_plot_file, engine='python', sep = '\\t', header = None,\n",
    "                     quotechar='\"', error_bad_lines=False, warn_bad_lines=False)\n",
    "    df_plot.head(2)\n",
    "    return df_plot"
   ]
  },
  {
   "cell_type": "code",
   "execution_count": 9,
   "metadata": {},
   "outputs": [],
   "source": [
    "df_plot = download_plot(movie_plot_file)"
   ]
  },
  {
   "cell_type": "code",
   "execution_count": 10,
   "metadata": {},
   "outputs": [],
   "source": [
    "def merge_plot_and_metadata():\n",
    "    df_metadata.columns = [\"movie_id\",1,\"movie_name\",3,4,5,6,7,\"genre\"]\n",
    "    df_plot.columns = [\"movie_id\", \"plot\"]\n",
    "   \n",
    "    df_dataset =  pd.merge(df_metadata[[\"movie_id\",\"movie_name\",\"genre\"]],\n",
    "                           df_plot[[\"movie_id\", \"plot\"]], on=\"movie_id\")\n",
    "    return df_dataset\n"
   ]
  },
  {
   "cell_type": "code",
   "execution_count": 11,
   "metadata": {},
   "outputs": [],
   "source": [
    "df_dataset = merge_plot_and_metadata()"
   ]
  },
  {
   "cell_type": "code",
   "execution_count": 12,
   "metadata": {},
   "outputs": [],
   "source": [
    "def select_top_genre():\n",
    "    genre_list = []\n",
    "    for i in df_dataset['genre']:\n",
    "        gen_filtered = []\n",
    "        gen = json.loads(i).values()\n",
    "        [gen_filtered.append(j) for j in list(gen) if j in top_genre]\n",
    "        genre_list.append(gen_filtered)\n",
    "    df_dataset['genre'] = genre_list\n",
    "    df_dataset.head(2)\n",
    "    return df_dataset"
   ]
  },
  {
   "cell_type": "code",
   "execution_count": 13,
   "metadata": {},
   "outputs": [],
   "source": [
    "df_dataset = select_top_genre()"
   ]
  },
  {
   "cell_type": "code",
   "execution_count": 14,
   "metadata": {},
   "outputs": [],
   "source": [
    "def clean_stem_plot_text():\n",
    "    df_dataset['plot'] = df_dataset['plot'].apply(clean_text)\n",
    "    df_dataset['plot'] = df_dataset['plot'].apply(stemming)\n",
    "    return df_dataset\n"
   ]
  },
  {
   "cell_type": "code",
   "execution_count": 15,
   "metadata": {},
   "outputs": [],
   "source": [
    "df_dataset = clean_stem_plot_text()"
   ]
  },
  {
   "cell_type": "code",
   "execution_count": 16,
   "metadata": {},
   "outputs": [
    {
     "data": {
      "text/html": [
       "<div>\n",
       "<style scoped>\n",
       "    .dataframe tbody tr th:only-of-type {\n",
       "        vertical-align: middle;\n",
       "    }\n",
       "\n",
       "    .dataframe tbody tr th {\n",
       "        vertical-align: top;\n",
       "    }\n",
       "\n",
       "    .dataframe thead th {\n",
       "        text-align: right;\n",
       "    }\n",
       "</style>\n",
       "<table border=\"1\" class=\"dataframe\">\n",
       "  <thead>\n",
       "    <tr style=\"text-align: right;\">\n",
       "      <th></th>\n",
       "      <th>movie_id</th>\n",
       "      <th>movie_name</th>\n",
       "      <th>genre</th>\n",
       "      <th>plot</th>\n",
       "    </tr>\n",
       "  </thead>\n",
       "  <tbody>\n",
       "    <tr>\n",
       "      <th>0</th>\n",
       "      <td>975900</td>\n",
       "      <td>Ghosts of Mars</td>\n",
       "      <td>[Thriller, Horror, Action]</td>\n",
       "      <td>set second half 22nd centuri film depict mar p...</td>\n",
       "    </tr>\n",
       "    <tr>\n",
       "      <th>1</th>\n",
       "      <td>9363483</td>\n",
       "      <td>White Of The Eye</td>\n",
       "      <td>[Thriller]</td>\n",
       "      <td>seri murder rich young women throughout arizon...</td>\n",
       "    </tr>\n",
       "    <tr>\n",
       "      <th>2</th>\n",
       "      <td>261236</td>\n",
       "      <td>A Woman in Flames</td>\n",
       "      <td>[Drama]</td>\n",
       "      <td>eva upper class housewif becom frustrat leav a...</td>\n",
       "    </tr>\n",
       "    <tr>\n",
       "      <th>3</th>\n",
       "      <td>18998739</td>\n",
       "      <td>The Sorcerer's Apprentice</td>\n",
       "      <td>[World cinema]</td>\n",
       "      <td>everi hundr year evil morgana return claim fin...</td>\n",
       "    </tr>\n",
       "    <tr>\n",
       "      <th>4</th>\n",
       "      <td>6631279</td>\n",
       "      <td>Little city</td>\n",
       "      <td>[Drama, Comedy, Romance Film]</td>\n",
       "      <td>adam san franciscobas artist work cab driver s...</td>\n",
       "    </tr>\n",
       "    <tr>\n",
       "      <th>...</th>\n",
       "      <td>...</td>\n",
       "      <td>...</td>\n",
       "      <td>...</td>\n",
       "      <td>...</td>\n",
       "    </tr>\n",
       "    <tr>\n",
       "      <th>42066</th>\n",
       "      <td>23851782</td>\n",
       "      <td>The Ghost Train</td>\n",
       "      <td>[Crime Fiction, Thriller, Comedy]</td>\n",
       "      <td>plot film open great western express speed box...</td>\n",
       "    </tr>\n",
       "    <tr>\n",
       "      <th>42067</th>\n",
       "      <td>35228177</td>\n",
       "      <td>Mermaids: The Body Found</td>\n",
       "      <td>[Drama]</td>\n",
       "      <td>two former nation ocean atmospher administr sc...</td>\n",
       "    </tr>\n",
       "    <tr>\n",
       "      <th>42068</th>\n",
       "      <td>34980460</td>\n",
       "      <td>Knuckle</td>\n",
       "      <td>[Drama]</td>\n",
       "      <td>plot film follow 12 year live 3 irish travel f...</td>\n",
       "    </tr>\n",
       "    <tr>\n",
       "      <th>42069</th>\n",
       "      <td>913762</td>\n",
       "      <td>The Super Dimension Fortress Macross II: Lover...</td>\n",
       "      <td>[Drama]</td>\n",
       "      <td>stori take place year 2092 super dimens fortre...</td>\n",
       "    </tr>\n",
       "    <tr>\n",
       "      <th>42070</th>\n",
       "      <td>12476867</td>\n",
       "      <td>Spliced</td>\n",
       "      <td>[Thriller, Horror]</td>\n",
       "      <td>movi teenag girl love horror movi watch time y...</td>\n",
       "    </tr>\n",
       "  </tbody>\n",
       "</table>\n",
       "<p>42071 rows × 4 columns</p>\n",
       "</div>"
      ],
      "text/plain": [
       "       movie_id                                         movie_name  \\\n",
       "0        975900                                     Ghosts of Mars   \n",
       "1       9363483                                   White Of The Eye   \n",
       "2        261236                                  A Woman in Flames   \n",
       "3      18998739                          The Sorcerer's Apprentice   \n",
       "4       6631279                                        Little city   \n",
       "...         ...                                                ...   \n",
       "42066  23851782                                    The Ghost Train   \n",
       "42067  35228177                           Mermaids: The Body Found   \n",
       "42068  34980460                                            Knuckle   \n",
       "42069    913762  The Super Dimension Fortress Macross II: Lover...   \n",
       "42070  12476867                                            Spliced   \n",
       "\n",
       "                                   genre  \\\n",
       "0             [Thriller, Horror, Action]   \n",
       "1                             [Thriller]   \n",
       "2                                [Drama]   \n",
       "3                         [World cinema]   \n",
       "4          [Drama, Comedy, Romance Film]   \n",
       "...                                  ...   \n",
       "42066  [Crime Fiction, Thriller, Comedy]   \n",
       "42067                            [Drama]   \n",
       "42068                            [Drama]   \n",
       "42069                            [Drama]   \n",
       "42070                 [Thriller, Horror]   \n",
       "\n",
       "                                                    plot  \n",
       "0      set second half 22nd centuri film depict mar p...  \n",
       "1      seri murder rich young women throughout arizon...  \n",
       "2      eva upper class housewif becom frustrat leav a...  \n",
       "3      everi hundr year evil morgana return claim fin...  \n",
       "4      adam san franciscobas artist work cab driver s...  \n",
       "...                                                  ...  \n",
       "42066  plot film open great western express speed box...  \n",
       "42067  two former nation ocean atmospher administr sc...  \n",
       "42068  plot film follow 12 year live 3 irish travel f...  \n",
       "42069  stori take place year 2092 super dimens fortre...  \n",
       "42070  movi teenag girl love horror movi watch time y...  \n",
       "\n",
       "[42071 rows x 4 columns]"
      ]
     },
     "execution_count": 16,
     "metadata": {},
     "output_type": "execute_result"
    }
   ],
   "source": [
    "df_dataset"
   ]
  },
  {
   "cell_type": "code",
   "execution_count": 17,
   "metadata": {},
   "outputs": [],
   "source": [
    "def append_columns_to_dataset(df, arr, col_names=[]):\n",
    "    assert arr.shape[0]==len(df), \"mismatch in number of rows\"\n",
    "    if col_names==[]:\n",
    "        col_names = range(arr.shape[1])\n",
    "    else:\n",
    "        col_names = list(col_names)\n",
    "    df_add = pd.DataFrame(arr, columns=col_names)\n",
    "    \n",
    "    df = pd.merge(df, df_add, how='left', left_index=True, right_index=True)\n",
    "\n",
    "    print(\"df_add ->:\", df_add.shape, \"df ->:\", df.shape, len(df))\n",
    "    assert (df_add.shape[0]==len(df)), \"mismatch in number of rows\"\n",
    "    assert (df_add.shape[1]==len(col_names)), \"mismatch in number of columns\"\n",
    "    return df\n"
   ]
  },
  {
   "cell_type": "code",
   "execution_count": 18,
   "metadata": {},
   "outputs": [],
   "source": [
    "def tokenize_plot(df):\n",
    "    tokenizer = Tokenizer(num_words=VOCAB_WORDLIMIT,\n",
    "                          filters='!\"#$%&()*+,-./:;<=>?@[\\]^_`{|}~', lower=True)\n",
    "    tokenizer.fit_on_texts(df.values)\n",
    "    plot_vocab = tokenizer.word_index\n",
    "\n",
    "    X_plot_tokens = tokenizer.texts_to_sequences(df.values)\n",
    "    X_plot_tokens = pad_sequences(X_plot_tokens, maxlen=SEQUENCE_LEN)\n",
    "    \n",
    "    print('X_plot_tokens:', type(X_plot_tokens), X_plot_tokens.shape)\n",
    "    print(\"plot_vocab:{}, document_count:{}, largest word_index:{}, num_word: {}\".format(\n",
    "        type(plot_vocab),\n",
    "        tokenizer.get_config()[\"document_count\"],\n",
    "        len(plot_vocab),\n",
    "        tokenizer.get_config()[\"num_words\"]))\n",
    "\n",
    "    assert X_plot_tokens.shape==(len(df), SEQUENCE_LEN), \"X_plot_tokens shape mismatch\"\n",
    "    \n",
    "    return tokenizer, X_plot_tokens\n"
   ]
  },
  {
   "cell_type": "code",
   "execution_count": 19,
   "metadata": {},
   "outputs": [
    {
     "name": "stdout",
     "output_type": "stream",
     "text": [
      "X_plot_tokens: <class 'numpy.ndarray'> (42071, 2000)\n",
      "plot_vocab:<class 'dict'>, document_count:42071, largest word_index:134441, num_word: 100000\n"
     ]
    }
   ],
   "source": [
    "tokenizer, X_plot_tokens = tokenize_plot(df_dataset['plot'])"
   ]
  },
  {
   "cell_type": "code",
   "execution_count": 20,
   "metadata": {},
   "outputs": [
    {
     "name": "stdout",
     "output_type": "stream",
     "text": [
      "df_add ->: (42071, 2000) df ->: (42071, 2004) 42071\n"
     ]
    }
   ],
   "source": [
    "df_dataset = append_columns_to_dataset(df_dataset, X_plot_tokens)"
   ]
  },
  {
   "cell_type": "code",
   "execution_count": 21,
   "metadata": {},
   "outputs": [
    {
     "data": {
      "text/html": [
       "<div>\n",
       "<style scoped>\n",
       "    .dataframe tbody tr th:only-of-type {\n",
       "        vertical-align: middle;\n",
       "    }\n",
       "\n",
       "    .dataframe tbody tr th {\n",
       "        vertical-align: top;\n",
       "    }\n",
       "\n",
       "    .dataframe thead th {\n",
       "        text-align: right;\n",
       "    }\n",
       "</style>\n",
       "<table border=\"1\" class=\"dataframe\">\n",
       "  <thead>\n",
       "    <tr style=\"text-align: right;\">\n",
       "      <th></th>\n",
       "      <th>movie_id</th>\n",
       "      <th>movie_name</th>\n",
       "      <th>genre</th>\n",
       "      <th>plot</th>\n",
       "      <th>0</th>\n",
       "      <th>1</th>\n",
       "      <th>2</th>\n",
       "      <th>3</th>\n",
       "      <th>4</th>\n",
       "      <th>5</th>\n",
       "      <th>...</th>\n",
       "      <th>1990</th>\n",
       "      <th>1991</th>\n",
       "      <th>1992</th>\n",
       "      <th>1993</th>\n",
       "      <th>1994</th>\n",
       "      <th>1995</th>\n",
       "      <th>1996</th>\n",
       "      <th>1997</th>\n",
       "      <th>1998</th>\n",
       "      <th>1999</th>\n",
       "    </tr>\n",
       "  </thead>\n",
       "  <tbody>\n",
       "    <tr>\n",
       "      <th>0</th>\n",
       "      <td>975900</td>\n",
       "      <td>Ghosts of Mars</td>\n",
       "      <td>[Thriller, Horror, Action]</td>\n",
       "      <td>set second half 22nd centuri film depict mar p...</td>\n",
       "      <td>0</td>\n",
       "      <td>0</td>\n",
       "      <td>0</td>\n",
       "      <td>0</td>\n",
       "      <td>0</td>\n",
       "      <td>0</td>\n",
       "      <td>...</td>\n",
       "      <td>139</td>\n",
       "      <td>89</td>\n",
       "      <td>143</td>\n",
       "      <td>5966</td>\n",
       "      <td>828</td>\n",
       "      <td>21</td>\n",
       "      <td>166</td>\n",
       "      <td>6829</td>\n",
       "      <td>84</td>\n",
       "      <td>758</td>\n",
       "    </tr>\n",
       "    <tr>\n",
       "      <th>1</th>\n",
       "      <td>9363483</td>\n",
       "      <td>White Of The Eye</td>\n",
       "      <td>[Thriller]</td>\n",
       "      <td>seri murder rich young women throughout arizon...</td>\n",
       "      <td>0</td>\n",
       "      <td>0</td>\n",
       "      <td>0</td>\n",
       "      <td>0</td>\n",
       "      <td>0</td>\n",
       "      <td>0</td>\n",
       "      <td>...</td>\n",
       "      <td>748</td>\n",
       "      <td>188</td>\n",
       "      <td>7081</td>\n",
       "      <td>382</td>\n",
       "      <td>9347</td>\n",
       "      <td>1522</td>\n",
       "      <td>442</td>\n",
       "      <td>402</td>\n",
       "      <td>1750</td>\n",
       "      <td>2119</td>\n",
       "    </tr>\n",
       "    <tr>\n",
       "      <th>2</th>\n",
       "      <td>261236</td>\n",
       "      <td>A Woman in Flames</td>\n",
       "      <td>[Drama]</td>\n",
       "      <td>eva upper class housewif becom frustrat leav a...</td>\n",
       "      <td>0</td>\n",
       "      <td>0</td>\n",
       "      <td>0</td>\n",
       "      <td>0</td>\n",
       "      <td>0</td>\n",
       "      <td>0</td>\n",
       "      <td>...</td>\n",
       "      <td>1774</td>\n",
       "      <td>86</td>\n",
       "      <td>199</td>\n",
       "      <td>29</td>\n",
       "      <td>110</td>\n",
       "      <td>297</td>\n",
       "      <td>8662</td>\n",
       "      <td>74672</td>\n",
       "      <td>74673</td>\n",
       "      <td>1063</td>\n",
       "    </tr>\n",
       "    <tr>\n",
       "      <th>3</th>\n",
       "      <td>18998739</td>\n",
       "      <td>The Sorcerer's Apprentice</td>\n",
       "      <td>[World cinema]</td>\n",
       "      <td>everi hundr year evil morgana return claim fin...</td>\n",
       "      <td>0</td>\n",
       "      <td>0</td>\n",
       "      <td>0</td>\n",
       "      <td>0</td>\n",
       "      <td>0</td>\n",
       "      <td>0</td>\n",
       "      <td>...</td>\n",
       "      <td>920</td>\n",
       "      <td>681</td>\n",
       "      <td>668</td>\n",
       "      <td>40</td>\n",
       "      <td>1370</td>\n",
       "      <td>72</td>\n",
       "      <td>3705</td>\n",
       "      <td>967</td>\n",
       "      <td>116</td>\n",
       "      <td>93</td>\n",
       "    </tr>\n",
       "    <tr>\n",
       "      <th>4</th>\n",
       "      <td>6631279</td>\n",
       "      <td>Little city</td>\n",
       "      <td>[Drama, Comedy, Romance Film]</td>\n",
       "      <td>adam san franciscobas artist work cab driver s...</td>\n",
       "      <td>0</td>\n",
       "      <td>0</td>\n",
       "      <td>0</td>\n",
       "      <td>0</td>\n",
       "      <td>0</td>\n",
       "      <td>0</td>\n",
       "      <td>...</td>\n",
       "      <td>742</td>\n",
       "      <td>842</td>\n",
       "      <td>1111</td>\n",
       "      <td>350</td>\n",
       "      <td>992</td>\n",
       "      <td>2317</td>\n",
       "      <td>151</td>\n",
       "      <td>2806</td>\n",
       "      <td>458</td>\n",
       "      <td>34</td>\n",
       "    </tr>\n",
       "    <tr>\n",
       "      <th>...</th>\n",
       "      <td>...</td>\n",
       "      <td>...</td>\n",
       "      <td>...</td>\n",
       "      <td>...</td>\n",
       "      <td>...</td>\n",
       "      <td>...</td>\n",
       "      <td>...</td>\n",
       "      <td>...</td>\n",
       "      <td>...</td>\n",
       "      <td>...</td>\n",
       "      <td>...</td>\n",
       "      <td>...</td>\n",
       "      <td>...</td>\n",
       "      <td>...</td>\n",
       "      <td>...</td>\n",
       "      <td>...</td>\n",
       "      <td>...</td>\n",
       "      <td>...</td>\n",
       "      <td>...</td>\n",
       "      <td>...</td>\n",
       "      <td>...</td>\n",
       "    </tr>\n",
       "    <tr>\n",
       "      <th>42066</th>\n",
       "      <td>23851782</td>\n",
       "      <td>The Ghost Train</td>\n",
       "      <td>[Crime Fiction, Thriller, Comedy]</td>\n",
       "      <td>plot film open great western express speed box...</td>\n",
       "      <td>0</td>\n",
       "      <td>0</td>\n",
       "      <td>0</td>\n",
       "      <td>0</td>\n",
       "      <td>0</td>\n",
       "      <td>0</td>\n",
       "      <td>...</td>\n",
       "      <td>1621</td>\n",
       "      <td>202</td>\n",
       "      <td>15</td>\n",
       "      <td>792</td>\n",
       "      <td>145</td>\n",
       "      <td>81</td>\n",
       "      <td>2829</td>\n",
       "      <td>12117</td>\n",
       "      <td>94</td>\n",
       "      <td>2282</td>\n",
       "    </tr>\n",
       "    <tr>\n",
       "      <th>42067</th>\n",
       "      <td>35228177</td>\n",
       "      <td>Mermaids: The Body Found</td>\n",
       "      <td>[Drama]</td>\n",
       "      <td>two former nation ocean atmospher administr sc...</td>\n",
       "      <td>0</td>\n",
       "      <td>0</td>\n",
       "      <td>0</td>\n",
       "      <td>0</td>\n",
       "      <td>0</td>\n",
       "      <td>0</td>\n",
       "      <td>...</td>\n",
       "      <td>302</td>\n",
       "      <td>521</td>\n",
       "      <td>166</td>\n",
       "      <td>579</td>\n",
       "      <td>963</td>\n",
       "      <td>559</td>\n",
       "      <td>222</td>\n",
       "      <td>676</td>\n",
       "      <td>281</td>\n",
       "      <td>4605</td>\n",
       "    </tr>\n",
       "    <tr>\n",
       "      <th>42068</th>\n",
       "      <td>34980460</td>\n",
       "      <td>Knuckle</td>\n",
       "      <td>[Drama]</td>\n",
       "      <td>plot film follow 12 year live 3 irish travel f...</td>\n",
       "      <td>0</td>\n",
       "      <td>0</td>\n",
       "      <td>0</td>\n",
       "      <td>0</td>\n",
       "      <td>0</td>\n",
       "      <td>0</td>\n",
       "      <td>...</td>\n",
       "      <td>204</td>\n",
       "      <td>1022</td>\n",
       "      <td>3889</td>\n",
       "      <td>1549</td>\n",
       "      <td>1215</td>\n",
       "      <td>713</td>\n",
       "      <td>496</td>\n",
       "      <td>810</td>\n",
       "      <td>188</td>\n",
       "      <td>29</td>\n",
       "    </tr>\n",
       "    <tr>\n",
       "      <th>42069</th>\n",
       "      <td>913762</td>\n",
       "      <td>The Super Dimension Fortress Macross II: Lover...</td>\n",
       "      <td>[Drama]</td>\n",
       "      <td>stori take place year 2092 super dimens fortre...</td>\n",
       "      <td>0</td>\n",
       "      <td>0</td>\n",
       "      <td>0</td>\n",
       "      <td>0</td>\n",
       "      <td>0</td>\n",
       "      <td>0</td>\n",
       "      <td>...</td>\n",
       "      <td>3290</td>\n",
       "      <td>1402</td>\n",
       "      <td>876</td>\n",
       "      <td>28863</td>\n",
       "      <td>10765</td>\n",
       "      <td>13467</td>\n",
       "      <td>24245</td>\n",
       "      <td>63</td>\n",
       "      <td>29</td>\n",
       "      <td>148</td>\n",
       "    </tr>\n",
       "    <tr>\n",
       "      <th>42070</th>\n",
       "      <td>12476867</td>\n",
       "      <td>Spliced</td>\n",
       "      <td>[Thriller, Horror]</td>\n",
       "      <td>movi teenag girl love horror movi watch time y...</td>\n",
       "      <td>0</td>\n",
       "      <td>0</td>\n",
       "      <td>0</td>\n",
       "      <td>0</td>\n",
       "      <td>0</td>\n",
       "      <td>0</td>\n",
       "      <td>...</td>\n",
       "      <td>143</td>\n",
       "      <td>72</td>\n",
       "      <td>132</td>\n",
       "      <td>3508</td>\n",
       "      <td>15</td>\n",
       "      <td>387</td>\n",
       "      <td>426</td>\n",
       "      <td>467</td>\n",
       "      <td>20441</td>\n",
       "      <td>1039</td>\n",
       "    </tr>\n",
       "  </tbody>\n",
       "</table>\n",
       "<p>42071 rows × 2004 columns</p>\n",
       "</div>"
      ],
      "text/plain": [
       "       movie_id                                         movie_name  \\\n",
       "0        975900                                     Ghosts of Mars   \n",
       "1       9363483                                   White Of The Eye   \n",
       "2        261236                                  A Woman in Flames   \n",
       "3      18998739                          The Sorcerer's Apprentice   \n",
       "4       6631279                                        Little city   \n",
       "...         ...                                                ...   \n",
       "42066  23851782                                    The Ghost Train   \n",
       "42067  35228177                           Mermaids: The Body Found   \n",
       "42068  34980460                                            Knuckle   \n",
       "42069    913762  The Super Dimension Fortress Macross II: Lover...   \n",
       "42070  12476867                                            Spliced   \n",
       "\n",
       "                                   genre  \\\n",
       "0             [Thriller, Horror, Action]   \n",
       "1                             [Thriller]   \n",
       "2                                [Drama]   \n",
       "3                         [World cinema]   \n",
       "4          [Drama, Comedy, Romance Film]   \n",
       "...                                  ...   \n",
       "42066  [Crime Fiction, Thriller, Comedy]   \n",
       "42067                            [Drama]   \n",
       "42068                            [Drama]   \n",
       "42069                            [Drama]   \n",
       "42070                 [Thriller, Horror]   \n",
       "\n",
       "                                                    plot  0  1  2  3  4  5  \\\n",
       "0      set second half 22nd centuri film depict mar p...  0  0  0  0  0  0   \n",
       "1      seri murder rich young women throughout arizon...  0  0  0  0  0  0   \n",
       "2      eva upper class housewif becom frustrat leav a...  0  0  0  0  0  0   \n",
       "3      everi hundr year evil morgana return claim fin...  0  0  0  0  0  0   \n",
       "4      adam san franciscobas artist work cab driver s...  0  0  0  0  0  0   \n",
       "...                                                  ... .. .. .. .. .. ..   \n",
       "42066  plot film open great western express speed box...  0  0  0  0  0  0   \n",
       "42067  two former nation ocean atmospher administr sc...  0  0  0  0  0  0   \n",
       "42068  plot film follow 12 year live 3 irish travel f...  0  0  0  0  0  0   \n",
       "42069  stori take place year 2092 super dimens fortre...  0  0  0  0  0  0   \n",
       "42070  movi teenag girl love horror movi watch time y...  0  0  0  0  0  0   \n",
       "\n",
       "       ...  1990  1991  1992   1993   1994   1995   1996   1997   1998  1999  \n",
       "0      ...   139    89   143   5966    828     21    166   6829     84   758  \n",
       "1      ...   748   188  7081    382   9347   1522    442    402   1750  2119  \n",
       "2      ...  1774    86   199     29    110    297   8662  74672  74673  1063  \n",
       "3      ...   920   681   668     40   1370     72   3705    967    116    93  \n",
       "4      ...   742   842  1111    350    992   2317    151   2806    458    34  \n",
       "...    ...   ...   ...   ...    ...    ...    ...    ...    ...    ...   ...  \n",
       "42066  ...  1621   202    15    792    145     81   2829  12117     94  2282  \n",
       "42067  ...   302   521   166    579    963    559    222    676    281  4605  \n",
       "42068  ...   204  1022  3889   1549   1215    713    496    810    188    29  \n",
       "42069  ...  3290  1402   876  28863  10765  13467  24245     63     29   148  \n",
       "42070  ...   143    72   132   3508     15    387    426    467  20441  1039  \n",
       "\n",
       "[42071 rows x 2004 columns]"
      ]
     },
     "execution_count": 21,
     "metadata": {},
     "output_type": "execute_result"
    }
   ],
   "source": [
    "df_dataset"
   ]
  },
  {
   "cell_type": "code",
   "execution_count": 22,
   "metadata": {},
   "outputs": [],
   "source": [
    "def hot_multicode_utility(df):\n",
    "    mlb = MultiLabelBinarizer()\n",
    "    mlb.fit_transform(df)\n",
    "    genres = mlb.classes_\n",
    "    hot_multicode = mlb.transform(df)\n",
    "    print('hot_multicode ->', type(hot_multicode), hot_multicode.shape, '\\n',\n",
    "         genres)\n",
    "    assert (hot_multicode.shape[1]==len(top_genre)), \"num of genre labels do not match with hot encoded list\"\n",
    "    assert (hot_multicode.shape[0]==len(df)), \"inconsistent number of samples processed\"\n",
    "    return hot_multicode, genres\n"
   ]
  },
  {
   "cell_type": "code",
   "execution_count": 23,
   "metadata": {},
   "outputs": [
    {
     "name": "stdout",
     "output_type": "stream",
     "text": [
      "hot_multicode -> <class 'numpy.ndarray'> (42071, 8) \n",
      " ['Action' 'Comedy' 'Crime Fiction' 'Drama' 'Horror' 'Romance Film'\n",
      " 'Thriller' 'World cinema']\n"
     ]
    }
   ],
   "source": [
    "hot_multicode, genres = hot_multicode_utility(df_dataset['genre'])"
   ]
  },
  {
   "cell_type": "code",
   "execution_count": 24,
   "metadata": {},
   "outputs": [
    {
     "name": "stderr",
     "output_type": "stream",
     "text": [
      "/Users/bp/Environments/deep/lib/python3.7/site-packages/ipykernel_launcher.py:3: DeprecationWarning: elementwise comparison failed; this will raise an error in the future.\n",
      "  This is separate from the ipykernel package so we can avoid doing imports until\n"
     ]
    },
    {
     "name": "stdout",
     "output_type": "stream",
     "text": [
      "df_add ->: (42071, 8) df ->: (42071, 2012) 42071\n"
     ]
    }
   ],
   "source": [
    "df_dataset = append_columns_to_dataset(df_dataset, hot_multicode, col_names=genres)"
   ]
  },
  {
   "cell_type": "code",
   "execution_count": 25,
   "metadata": {},
   "outputs": [
    {
     "data": {
      "text/html": [
       "<div>\n",
       "<style scoped>\n",
       "    .dataframe tbody tr th:only-of-type {\n",
       "        vertical-align: middle;\n",
       "    }\n",
       "\n",
       "    .dataframe tbody tr th {\n",
       "        vertical-align: top;\n",
       "    }\n",
       "\n",
       "    .dataframe thead th {\n",
       "        text-align: right;\n",
       "    }\n",
       "</style>\n",
       "<table border=\"1\" class=\"dataframe\">\n",
       "  <thead>\n",
       "    <tr style=\"text-align: right;\">\n",
       "      <th></th>\n",
       "      <th>movie_id</th>\n",
       "      <th>movie_name</th>\n",
       "      <th>genre</th>\n",
       "      <th>plot</th>\n",
       "      <th>0</th>\n",
       "      <th>1</th>\n",
       "      <th>2</th>\n",
       "      <th>3</th>\n",
       "      <th>4</th>\n",
       "      <th>5</th>\n",
       "      <th>...</th>\n",
       "      <th>1998</th>\n",
       "      <th>1999</th>\n",
       "      <th>Action</th>\n",
       "      <th>Comedy</th>\n",
       "      <th>Crime Fiction</th>\n",
       "      <th>Drama</th>\n",
       "      <th>Horror</th>\n",
       "      <th>Romance Film</th>\n",
       "      <th>Thriller</th>\n",
       "      <th>World cinema</th>\n",
       "    </tr>\n",
       "  </thead>\n",
       "  <tbody>\n",
       "    <tr>\n",
       "      <th>0</th>\n",
       "      <td>975900</td>\n",
       "      <td>Ghosts of Mars</td>\n",
       "      <td>[Thriller, Horror, Action]</td>\n",
       "      <td>set second half 22nd centuri film depict mar p...</td>\n",
       "      <td>0</td>\n",
       "      <td>0</td>\n",
       "      <td>0</td>\n",
       "      <td>0</td>\n",
       "      <td>0</td>\n",
       "      <td>0</td>\n",
       "      <td>...</td>\n",
       "      <td>84</td>\n",
       "      <td>758</td>\n",
       "      <td>1</td>\n",
       "      <td>0</td>\n",
       "      <td>0</td>\n",
       "      <td>0</td>\n",
       "      <td>1</td>\n",
       "      <td>0</td>\n",
       "      <td>1</td>\n",
       "      <td>0</td>\n",
       "    </tr>\n",
       "    <tr>\n",
       "      <th>1</th>\n",
       "      <td>9363483</td>\n",
       "      <td>White Of The Eye</td>\n",
       "      <td>[Thriller]</td>\n",
       "      <td>seri murder rich young women throughout arizon...</td>\n",
       "      <td>0</td>\n",
       "      <td>0</td>\n",
       "      <td>0</td>\n",
       "      <td>0</td>\n",
       "      <td>0</td>\n",
       "      <td>0</td>\n",
       "      <td>...</td>\n",
       "      <td>1750</td>\n",
       "      <td>2119</td>\n",
       "      <td>0</td>\n",
       "      <td>0</td>\n",
       "      <td>0</td>\n",
       "      <td>0</td>\n",
       "      <td>0</td>\n",
       "      <td>0</td>\n",
       "      <td>1</td>\n",
       "      <td>0</td>\n",
       "    </tr>\n",
       "    <tr>\n",
       "      <th>2</th>\n",
       "      <td>261236</td>\n",
       "      <td>A Woman in Flames</td>\n",
       "      <td>[Drama]</td>\n",
       "      <td>eva upper class housewif becom frustrat leav a...</td>\n",
       "      <td>0</td>\n",
       "      <td>0</td>\n",
       "      <td>0</td>\n",
       "      <td>0</td>\n",
       "      <td>0</td>\n",
       "      <td>0</td>\n",
       "      <td>...</td>\n",
       "      <td>74673</td>\n",
       "      <td>1063</td>\n",
       "      <td>0</td>\n",
       "      <td>0</td>\n",
       "      <td>0</td>\n",
       "      <td>1</td>\n",
       "      <td>0</td>\n",
       "      <td>0</td>\n",
       "      <td>0</td>\n",
       "      <td>0</td>\n",
       "    </tr>\n",
       "    <tr>\n",
       "      <th>3</th>\n",
       "      <td>18998739</td>\n",
       "      <td>The Sorcerer's Apprentice</td>\n",
       "      <td>[World cinema]</td>\n",
       "      <td>everi hundr year evil morgana return claim fin...</td>\n",
       "      <td>0</td>\n",
       "      <td>0</td>\n",
       "      <td>0</td>\n",
       "      <td>0</td>\n",
       "      <td>0</td>\n",
       "      <td>0</td>\n",
       "      <td>...</td>\n",
       "      <td>116</td>\n",
       "      <td>93</td>\n",
       "      <td>0</td>\n",
       "      <td>0</td>\n",
       "      <td>0</td>\n",
       "      <td>0</td>\n",
       "      <td>0</td>\n",
       "      <td>0</td>\n",
       "      <td>0</td>\n",
       "      <td>1</td>\n",
       "    </tr>\n",
       "    <tr>\n",
       "      <th>4</th>\n",
       "      <td>6631279</td>\n",
       "      <td>Little city</td>\n",
       "      <td>[Drama, Comedy, Romance Film]</td>\n",
       "      <td>adam san franciscobas artist work cab driver s...</td>\n",
       "      <td>0</td>\n",
       "      <td>0</td>\n",
       "      <td>0</td>\n",
       "      <td>0</td>\n",
       "      <td>0</td>\n",
       "      <td>0</td>\n",
       "      <td>...</td>\n",
       "      <td>458</td>\n",
       "      <td>34</td>\n",
       "      <td>0</td>\n",
       "      <td>1</td>\n",
       "      <td>0</td>\n",
       "      <td>1</td>\n",
       "      <td>0</td>\n",
       "      <td>1</td>\n",
       "      <td>0</td>\n",
       "      <td>0</td>\n",
       "    </tr>\n",
       "    <tr>\n",
       "      <th>...</th>\n",
       "      <td>...</td>\n",
       "      <td>...</td>\n",
       "      <td>...</td>\n",
       "      <td>...</td>\n",
       "      <td>...</td>\n",
       "      <td>...</td>\n",
       "      <td>...</td>\n",
       "      <td>...</td>\n",
       "      <td>...</td>\n",
       "      <td>...</td>\n",
       "      <td>...</td>\n",
       "      <td>...</td>\n",
       "      <td>...</td>\n",
       "      <td>...</td>\n",
       "      <td>...</td>\n",
       "      <td>...</td>\n",
       "      <td>...</td>\n",
       "      <td>...</td>\n",
       "      <td>...</td>\n",
       "      <td>...</td>\n",
       "      <td>...</td>\n",
       "    </tr>\n",
       "    <tr>\n",
       "      <th>42066</th>\n",
       "      <td>23851782</td>\n",
       "      <td>The Ghost Train</td>\n",
       "      <td>[Crime Fiction, Thriller, Comedy]</td>\n",
       "      <td>plot film open great western express speed box...</td>\n",
       "      <td>0</td>\n",
       "      <td>0</td>\n",
       "      <td>0</td>\n",
       "      <td>0</td>\n",
       "      <td>0</td>\n",
       "      <td>0</td>\n",
       "      <td>...</td>\n",
       "      <td>94</td>\n",
       "      <td>2282</td>\n",
       "      <td>0</td>\n",
       "      <td>1</td>\n",
       "      <td>1</td>\n",
       "      <td>0</td>\n",
       "      <td>0</td>\n",
       "      <td>0</td>\n",
       "      <td>1</td>\n",
       "      <td>0</td>\n",
       "    </tr>\n",
       "    <tr>\n",
       "      <th>42067</th>\n",
       "      <td>35228177</td>\n",
       "      <td>Mermaids: The Body Found</td>\n",
       "      <td>[Drama]</td>\n",
       "      <td>two former nation ocean atmospher administr sc...</td>\n",
       "      <td>0</td>\n",
       "      <td>0</td>\n",
       "      <td>0</td>\n",
       "      <td>0</td>\n",
       "      <td>0</td>\n",
       "      <td>0</td>\n",
       "      <td>...</td>\n",
       "      <td>281</td>\n",
       "      <td>4605</td>\n",
       "      <td>0</td>\n",
       "      <td>0</td>\n",
       "      <td>0</td>\n",
       "      <td>1</td>\n",
       "      <td>0</td>\n",
       "      <td>0</td>\n",
       "      <td>0</td>\n",
       "      <td>0</td>\n",
       "    </tr>\n",
       "    <tr>\n",
       "      <th>42068</th>\n",
       "      <td>34980460</td>\n",
       "      <td>Knuckle</td>\n",
       "      <td>[Drama]</td>\n",
       "      <td>plot film follow 12 year live 3 irish travel f...</td>\n",
       "      <td>0</td>\n",
       "      <td>0</td>\n",
       "      <td>0</td>\n",
       "      <td>0</td>\n",
       "      <td>0</td>\n",
       "      <td>0</td>\n",
       "      <td>...</td>\n",
       "      <td>188</td>\n",
       "      <td>29</td>\n",
       "      <td>0</td>\n",
       "      <td>0</td>\n",
       "      <td>0</td>\n",
       "      <td>1</td>\n",
       "      <td>0</td>\n",
       "      <td>0</td>\n",
       "      <td>0</td>\n",
       "      <td>0</td>\n",
       "    </tr>\n",
       "    <tr>\n",
       "      <th>42069</th>\n",
       "      <td>913762</td>\n",
       "      <td>The Super Dimension Fortress Macross II: Lover...</td>\n",
       "      <td>[Drama]</td>\n",
       "      <td>stori take place year 2092 super dimens fortre...</td>\n",
       "      <td>0</td>\n",
       "      <td>0</td>\n",
       "      <td>0</td>\n",
       "      <td>0</td>\n",
       "      <td>0</td>\n",
       "      <td>0</td>\n",
       "      <td>...</td>\n",
       "      <td>29</td>\n",
       "      <td>148</td>\n",
       "      <td>0</td>\n",
       "      <td>0</td>\n",
       "      <td>0</td>\n",
       "      <td>1</td>\n",
       "      <td>0</td>\n",
       "      <td>0</td>\n",
       "      <td>0</td>\n",
       "      <td>0</td>\n",
       "    </tr>\n",
       "    <tr>\n",
       "      <th>42070</th>\n",
       "      <td>12476867</td>\n",
       "      <td>Spliced</td>\n",
       "      <td>[Thriller, Horror]</td>\n",
       "      <td>movi teenag girl love horror movi watch time y...</td>\n",
       "      <td>0</td>\n",
       "      <td>0</td>\n",
       "      <td>0</td>\n",
       "      <td>0</td>\n",
       "      <td>0</td>\n",
       "      <td>0</td>\n",
       "      <td>...</td>\n",
       "      <td>20441</td>\n",
       "      <td>1039</td>\n",
       "      <td>0</td>\n",
       "      <td>0</td>\n",
       "      <td>0</td>\n",
       "      <td>0</td>\n",
       "      <td>1</td>\n",
       "      <td>0</td>\n",
       "      <td>1</td>\n",
       "      <td>0</td>\n",
       "    </tr>\n",
       "  </tbody>\n",
       "</table>\n",
       "<p>42071 rows × 2012 columns</p>\n",
       "</div>"
      ],
      "text/plain": [
       "       movie_id                                         movie_name  \\\n",
       "0        975900                                     Ghosts of Mars   \n",
       "1       9363483                                   White Of The Eye   \n",
       "2        261236                                  A Woman in Flames   \n",
       "3      18998739                          The Sorcerer's Apprentice   \n",
       "4       6631279                                        Little city   \n",
       "...         ...                                                ...   \n",
       "42066  23851782                                    The Ghost Train   \n",
       "42067  35228177                           Mermaids: The Body Found   \n",
       "42068  34980460                                            Knuckle   \n",
       "42069    913762  The Super Dimension Fortress Macross II: Lover...   \n",
       "42070  12476867                                            Spliced   \n",
       "\n",
       "                                   genre  \\\n",
       "0             [Thriller, Horror, Action]   \n",
       "1                             [Thriller]   \n",
       "2                                [Drama]   \n",
       "3                         [World cinema]   \n",
       "4          [Drama, Comedy, Romance Film]   \n",
       "...                                  ...   \n",
       "42066  [Crime Fiction, Thriller, Comedy]   \n",
       "42067                            [Drama]   \n",
       "42068                            [Drama]   \n",
       "42069                            [Drama]   \n",
       "42070                 [Thriller, Horror]   \n",
       "\n",
       "                                                    plot  0  1  2  3  4  5  \\\n",
       "0      set second half 22nd centuri film depict mar p...  0  0  0  0  0  0   \n",
       "1      seri murder rich young women throughout arizon...  0  0  0  0  0  0   \n",
       "2      eva upper class housewif becom frustrat leav a...  0  0  0  0  0  0   \n",
       "3      everi hundr year evil morgana return claim fin...  0  0  0  0  0  0   \n",
       "4      adam san franciscobas artist work cab driver s...  0  0  0  0  0  0   \n",
       "...                                                  ... .. .. .. .. .. ..   \n",
       "42066  plot film open great western express speed box...  0  0  0  0  0  0   \n",
       "42067  two former nation ocean atmospher administr sc...  0  0  0  0  0  0   \n",
       "42068  plot film follow 12 year live 3 irish travel f...  0  0  0  0  0  0   \n",
       "42069  stori take place year 2092 super dimens fortre...  0  0  0  0  0  0   \n",
       "42070  movi teenag girl love horror movi watch time y...  0  0  0  0  0  0   \n",
       "\n",
       "       ...   1998  1999  Action  Comedy  Crime Fiction  Drama  Horror  \\\n",
       "0      ...     84   758       1       0              0      0       1   \n",
       "1      ...   1750  2119       0       0              0      0       0   \n",
       "2      ...  74673  1063       0       0              0      1       0   \n",
       "3      ...    116    93       0       0              0      0       0   \n",
       "4      ...    458    34       0       1              0      1       0   \n",
       "...    ...    ...   ...     ...     ...            ...    ...     ...   \n",
       "42066  ...     94  2282       0       1              1      0       0   \n",
       "42067  ...    281  4605       0       0              0      1       0   \n",
       "42068  ...    188    29       0       0              0      1       0   \n",
       "42069  ...     29   148       0       0              0      1       0   \n",
       "42070  ...  20441  1039       0       0              0      0       1   \n",
       "\n",
       "       Romance Film  Thriller  World cinema  \n",
       "0                 0         1             0  \n",
       "1                 0         1             0  \n",
       "2                 0         0             0  \n",
       "3                 0         0             1  \n",
       "4                 1         0             0  \n",
       "...             ...       ...           ...  \n",
       "42066             0         1             0  \n",
       "42067             0         0             0  \n",
       "42068             0         0             0  \n",
       "42069             0         0             0  \n",
       "42070             0         1             0  \n",
       "\n",
       "[42071 rows x 2012 columns]"
      ]
     },
     "execution_count": 25,
     "metadata": {},
     "output_type": "execute_result"
    }
   ],
   "source": [
    "df_dataset"
   ]
  },
  {
   "cell_type": "code",
   "execution_count": 26,
   "metadata": {},
   "outputs": [],
   "source": [
    "def filter_unlabeled_data(df, start_col_index=df_dataset.columns.get_loc(\"Action\")):\n",
    "    df_bool = (df[df.columns[start_col_index::]] != 0).any(axis=1)\n",
    "    df_filtered = df.loc[df_bool]\n",
    "    print(\"len of filtered dataset {}, number of rows filtered out {}:\".format(\n",
    "        len(df_filtered), len(df)-len(df_filtered)))\n",
    "    return df_filtered"
   ]
  },
  {
   "cell_type": "code",
   "execution_count": 27,
   "metadata": {},
   "outputs": [
    {
     "name": "stdout",
     "output_type": "stream",
     "text": [
      "len of filtered dataset 34561, number of rows filtered out 7510:\n"
     ]
    }
   ],
   "source": [
    "df_dataset = filter_unlabeled_data(df_dataset)"
   ]
  },
  {
   "cell_type": "markdown",
   "metadata": {},
   "source": [
    "## Split dataset"
   ]
  },
  {
   "cell_type": "code",
   "execution_count": 28,
   "metadata": {},
   "outputs": [],
   "source": [
    "df_X_plot = df_dataset.iloc[:,4:(4+SEQUENCE_LEN)]"
   ]
  },
  {
   "cell_type": "code",
   "execution_count": 29,
   "metadata": {},
   "outputs": [],
   "source": [
    "df_Y_genre = df_dataset.iloc[:,(4+SEQUENCE_LEN)::]"
   ]
  },
  {
   "cell_type": "code",
   "execution_count": 30,
   "metadata": {},
   "outputs": [],
   "source": [
    "def split_dataset(X_0, Y_0, residual_fraction):\n",
    "    assert isinstance(X_0, pd.DataFrame), \"X input should be a pandas dataframe\"\n",
    "    assert isinstance(Y_0, pd.DataFrame), \"Y input should be a pandas dataframe\"\n",
    "    assert len(X_0)==len(Y_0), \"num of samples in X input must be equal to that of Y input\"\n",
    "    X_1, X_2, Y_1, Y_2  = train_test_split(\n",
    "        X_0, Y_0, test_size = residual_fraction, random_state = 42)\n",
    "    \n",
    "    print(\"total dataset items -> {}\".format(len(X_0)))\n",
    "    print(\"split values -> used:{}, remaing:{} \".format(len(Y_1), len(Y_2)))                   \n",
    "    return X_1, X_2, Y_1, Y_2\n"
   ]
  },
  {
   "cell_type": "code",
   "execution_count": 31,
   "metadata": {},
   "outputs": [
    {
     "name": "stdout",
     "output_type": "stream",
     "text": [
      "total dataset items -> 34561\n",
      "split values -> used:32832, remaing:1729 \n"
     ]
    }
   ],
   "source": [
    "X_train, X_pool, Y_train, Y_pool = split_dataset(df_X_plot, df_Y_genre, 0.05)"
   ]
  },
  {
   "cell_type": "code",
   "execution_count": 32,
   "metadata": {},
   "outputs": [],
   "source": [
    "def print_genre_freq(df, start_col_idx=0):\n",
    "    \n",
    "    df = df[df.columns[start_col_idx::]]\n",
    "    df = df.apply(pd.value_counts)\n",
    "    df = df[1:2]\n",
    "    df = df.sort_values(by =1,axis=1, ascending=False)\n",
    "    df = df.transpose()\n",
    "    sum_all = df.sum(axis = 0, skipna = True)\n",
    "    print(\"genre freq for {} movies\".format(Y_train.shape[0]))\n",
    "    print(df)\n",
    "    print(\" col_tot\", sum_all)\n",
    "    \n",
    "    return df"
   ]
  },
  {
   "cell_type": "code",
   "execution_count": 33,
   "metadata": {},
   "outputs": [
    {
     "name": "stdout",
     "output_type": "stream",
     "text": [
      "genre freq for 32832 movies\n",
      "                   1\n",
      "Drama          18128\n",
      "Comedy          9893\n",
      "Romance Film    6301\n",
      "Thriller        6210\n",
      "Action          5561\n",
      "World cinema    4880\n",
      "Crime Fiction   4057\n",
      "Horror          3869\n",
      " col_tot 1    58899\n",
      "dtype: int64\n"
     ]
    }
   ],
   "source": [
    "Y_train_genre_freq = print_genre_freq(Y_train)"
   ]
  },
  {
   "cell_type": "code",
   "execution_count": 34,
   "metadata": {},
   "outputs": [],
   "source": [
    "def render_genre_freq(df):\n",
    "    plt.figure(figsize=(12,6))\n",
    "    ax = sns.barplot(data=df, x = list(df.index), y =df.iloc[:,0])\n",
    "    ax.set(ylabel = \"Train Set Movie Count\", xlabel = \"Train Set Genre\")\n",
    "    plt.show()\n",
    "    return"
   ]
  },
  {
   "cell_type": "code",
   "execution_count": 35,
   "metadata": {},
   "outputs": [
    {
     "data": {
      "image/png": "[encoded data removed]",
      "text/plain": [
       "<Figure size 864x432 with 1 Axes>"
      ]
     },
     "metadata": {
      "needs_background": "light"
     },
     "output_type": "display_data"
    }
   ],
   "source": [
    "render_genre_freq(Y_train_genre_freq)"
   ]
  },
  {
   "cell_type": "markdown",
   "metadata": {},
   "source": [
    "# Model"
   ]
  },
  {
   "cell_type": "markdown",
   "metadata": {},
   "source": [
    "#### embedding_layer\n",
    "* Turns positive integers (indexes) into dense vectors of fixed size\n",
    "* This layer can only be used as the first layer in a model.\n",
    "* Input shape:  2D tensor with shape: (batch_size, input_length)\n",
    "* Output shape: 3D tensor with shape: (batch_size, input_length, output_dim).\n",
    "#### LSTM\n",
    "* Transform the vector sequence into a single vector, containing information about the entire sequence\n",
    "#### Dropout\n",
    "* A Simple Way to Prevent Neural Networks from Overfitting\n"
   ]
  },
  {
   "cell_type": "code",
   "execution_count": 36,
   "metadata": {},
   "outputs": [],
   "source": [
    "#### Use pre-trained glove embeddings"
   ]
  },
  {
   "cell_type": "code",
   "execution_count": 37,
   "metadata": {},
   "outputs": [],
   "source": [
    "def create_glove_embd(glove_embd_file):\n",
    "    embeddings_index = {}\n",
    "    with open(glove_embd_file, encoding='utf8') as f:\n",
    "        for line in f:\n",
    "            values = line.rstrip().rsplit(' ')\n",
    "            word = values[0]\n",
    "            embed = np.asarray(values[1:], dtype='float32')\n",
    "            embeddings_index[word] = embed\n",
    "    word_index = tokenizer.word_index\n",
    "    print(\"word_index length\", len(word_index))\n",
    "    num_words = min(VOCAB_WORDLIMIT, len(word_index) + 1)\n",
    "    glove_embd = np.zeros((num_words, EMBD_SIZE), dtype='float32')\n",
    "    print(\"glove_embd length\", len(glove_embd))\n",
    "    for word, i in word_index.items():\n",
    "        if i >= VOCAB_WORDLIMIT:\n",
    "            continue\n",
    "        embedding_vector = embeddings_index.get(word)\n",
    "        if embedding_vector is not None:\n",
    "            glove_embd[i] = embedding_vector\n",
    "    return glove_embd\n"
   ]
  },
  {
   "cell_type": "code",
   "execution_count": 38,
   "metadata": {},
   "outputs": [
    {
     "name": "stdout",
     "output_type": "stream",
     "text": [
      "word_index length 134441\n",
      "glove_embd length 100000\n"
     ]
    }
   ],
   "source": [
    "glove_embd = create_glove_embd(glove_embd_file)"
   ]
  },
  {
   "cell_type": "markdown",
   "metadata": {},
   "source": [
    "#### Conv1D\n",
    "* Conv1D was designed for a sequence analysis\n",
    "* It works well for analysis of a time series over a fixed-length period\n",
    "* "
   ]
  },
  {
   "cell_type": "code",
   "execution_count": 39,
   "metadata": {},
   "outputs": [],
   "source": [
    "def build_model():\n",
    "    label_count = Y_train.shape[1]    \n",
    "    x_plot_input = Input(shape=(SEQUENCE_LEN,))\n",
    "    \n",
    "    x = Embedding(VOCAB_WORDLIMIT, EMBD_SIZE, weights=[glove_embd], trainable=False, name='x_plot_input')(x_plot_input)\n",
    "    x = Bidirectional(GRU(128, return_sequences=True, dropout=0.1, recurrent_dropout=0.1))(x)\n",
    "    x = Conv1D(filters=64, kernel_size=3, padding=\"valid\", kernel_initializer=\"glorot_uniform\")(x)\n",
    "    avg_pool = GlobalAveragePooling1D()(x)\n",
    "    max_pool = GlobalMaxPooling1D()(x)\n",
    "    x = concatenate([avg_pool, max_pool])\n",
    "    \n",
    "    pred_label = Dense(label_count, activation=\"sigmoid\", name='pred_label')(x)\n",
    "    pred_count = Dense(label_count, activation=\"softmax\", name='pred_count')(x)\n",
    "    \n",
    "    \n",
    "    model = Model(x_plot_input, outputs=[pred_label, pred_count])\n",
    "        \n",
    "    return model\n"
   ]
  },
  {
   "cell_type": "code",
   "execution_count": 40,
   "metadata": {},
   "outputs": [
    {
     "data": {
      "image/png": "[encoded data removed]",
      "text/plain": [
       "<IPython.core.display.Image object>"
      ]
     },
     "execution_count": 40,
     "metadata": {},
     "output_type": "execute_result"
    }
   ],
   "source": [
    "model = build_model()\n",
    "plot_model(model, 'model.png', show_shapes=True)"
   ]
  },
  {
   "cell_type": "code",
   "execution_count": 41,
   "metadata": {},
   "outputs": [
    {
     "name": "stdout",
     "output_type": "stream",
     "text": [
      "Model: \"model\"\n",
      "__________________________________________________________________________________________________\n",
      "Layer (type)                    Output Shape         Param #     Connected to                     \n",
      "==================================================================================================\n",
      "input_1 (InputLayer)            [(None, 2000)]       0                                            \n",
      "__________________________________________________________________________________________________\n",
      "x_plot_input (Embedding)        (None, 2000, 100)    10000000    input_1[0][0]                    \n",
      "__________________________________________________________________________________________________\n",
      "bidirectional (Bidirectional)   (None, 2000, 256)    176640      x_plot_input[0][0]               \n",
      "__________________________________________________________________________________________________\n",
      "conv1d (Conv1D)                 (None, 1998, 64)     49216       bidirectional[0][0]              \n",
      "__________________________________________________________________________________________________\n",
      "global_average_pooling1d (Globa (None, 64)           0           conv1d[0][0]                     \n",
      "__________________________________________________________________________________________________\n",
      "global_max_pooling1d (GlobalMax (None, 64)           0           conv1d[0][0]                     \n",
      "__________________________________________________________________________________________________\n",
      "concatenate (Concatenate)       (None, 128)          0           global_average_pooling1d[0][0]   \n",
      "                                                                 global_max_pooling1d[0][0]       \n",
      "__________________________________________________________________________________________________\n",
      "pred_label (Dense)              (None, 8)            1032        concatenate[0][0]                \n",
      "__________________________________________________________________________________________________\n",
      "pred_count (Dense)              (None, 8)            1032        concatenate[0][0]                \n",
      "==================================================================================================\n",
      "Total params: 10,227,920\n",
      "Trainable params: 227,920\n",
      "Non-trainable params: 10,000,000\n",
      "__________________________________________________________________________________________________\n"
     ]
    }
   ],
   "source": [
    "model.summary()"
   ]
  },
  {
   "cell_type": "code",
   "execution_count": 42,
   "metadata": {},
   "outputs": [],
   "source": [
    "def hot_onecode_utility(df):\n",
    "    df = df.sum(axis=1)\n",
    "    hot_onecode = to_categorical(df, num_classes=len(genres), dtype=int)\n",
    "    print(\"hot_onecode ->\", type(hot_onecode), hot_onecode.shape, \"nulls=\", df.isnull().sum())\n",
    "    assert df.shape[0]==len(df), \"out shape mismatch\"\n",
    "    return hot_onecode\n"
   ]
  },
  {
   "cell_type": "code",
   "execution_count": 43,
   "metadata": {
    "scrolled": true
   },
   "outputs": [],
   "source": [
    "model.compile(optimizer='adam',\n",
    "              loss=({'pred_label': 'binary_crossentropy', 'pred_count': 'binary_crossentropy'}),\n",
    "              loss_weights=({'pred_label': 1., 'pred_count': 1.}),\n",
    "              metrics=({'pred_label': 'accuracy', 'pred_count': 'accuracy'}))"
   ]
  },
  {
   "cell_type": "code",
   "execution_count": 44,
   "metadata": {},
   "outputs": [],
   "source": [
    "callbacks = [ReduceLROnPlateau(),\n",
    "             EarlyStopping(patience=4),\n",
    "             ModelCheckpoint(filepath=model_file, save_best_only=True)]"
   ]
  },
  {
   "cell_type": "code",
   "execution_count": 45,
   "metadata": {},
   "outputs": [],
   "source": [
    "def train_model(X_train, Y_train):\n",
    "    Y_train_count = hot_onecode_utility(Y_train)\n",
    "    history = model.fit(X_train,\n",
    "                        {'pred_label': Y_train, 'pred_count': Y_train_count},\n",
    "                        batch_size=BATCH_SIZE, epochs=EPOCHS, verbose=1, validation_split=0.2,\n",
    "                        callbacks=callbacks)\n",
    "    return history"
   ]
  },
  {
   "cell_type": "code",
   "execution_count": 46,
   "metadata": {
    "scrolled": false
   },
   "outputs": [
    {
     "name": "stdout",
     "output_type": "stream",
     "text": [
      "hot_onecode -> <class 'numpy.ndarray'> (32832, 8) nulls= 0\n",
      "Train on 26265 samples, validate on 6567 samples\n",
      "Epoch 1/4\n",
      "26265/26265 [==============================] - 4014s 153ms/sample - loss: 0.6567 - pred_label_loss: 0.4117 - pred_count_loss: 0.2450 - pred_label_accuracy: 0.8140 - pred_count_accuracy: 0.8816 - val_loss: 0.6283 - val_pred_label_loss: 0.3860 - val_pred_count_loss: 0.2428 - val_pred_label_accuracy: 0.8243 - val_pred_count_accuracy: 0.8808\n",
      "Epoch 2/4\n",
      "26265/26265 [==============================] - 3999s 152ms/sample - loss: 0.6125 - pred_label_loss: 0.3752 - pred_count_loss: 0.2373 - pred_label_accuracy: 0.8290 - pred_count_accuracy: 0.8860 - val_loss: 0.6214 - val_pred_label_loss: 0.3716 - val_pred_count_loss: 0.2504 - val_pred_label_accuracy: 0.8313 - val_pred_count_accuracy: 0.8733\n",
      "Epoch 3/4\n",
      "26265/26265 [==============================] - 3777s 144ms/sample - loss: 0.5953 - pred_label_loss: 0.3618 - pred_count_loss: 0.2334 - pred_label_accuracy: 0.8361 - pred_count_accuracy: 0.8880 - val_loss: 0.6070 - val_pred_label_loss: 0.3685 - val_pred_count_loss: 0.2391 - val_pred_label_accuracy: 0.8329 - val_pred_count_accuracy: 0.8843\n",
      "Epoch 4/4\n",
      "26265/26265 [==============================] - 3759s 143ms/sample - loss: 0.5821 - pred_label_loss: 0.3519 - pred_count_loss: 0.2303 - pred_label_accuracy: 0.8414 - pred_count_accuracy: 0.8894 - val_loss: 0.6122 - val_pred_label_loss: 0.3707 - val_pred_count_loss: 0.2420 - val_pred_label_accuracy: 0.8316 - val_pred_count_accuracy: 0.8814\n"
     ]
    }
   ],
   "source": [
    "history = train_model(X_train, Y_train)"
   ]
  },
  {
   "cell_type": "code",
   "execution_count": 47,
   "metadata": {
    "scrolled": true
   },
   "outputs": [
    {
     "name": "stdout",
     "output_type": "stream",
     "text": [
      "loss\n",
      "pred_label_loss\n",
      "pred_count_loss\n",
      "pred_label_accuracy\n",
      "pred_count_accuracy\n",
      "val_loss\n",
      "val_pred_label_loss\n",
      "val_pred_count_loss\n",
      "val_pred_label_accuracy\n",
      "val_pred_count_accuracy\n",
      "lr\n"
     ]
    },
    {
     "data": {
      "text/plain": [
       "[None, None, None, None, None, None, None, None, None, None, None]"
      ]
     },
     "execution_count": 47,
     "metadata": {},
     "output_type": "execute_result"
    }
   ],
   "source": [
    "[print(key) for key in history.history.keys()]"
   ]
  },
  {
   "cell_type": "code",
   "execution_count": 48,
   "metadata": {},
   "outputs": [],
   "source": [
    "def render_model_metrics(title, train_meas, val_meas):\n",
    "    \n",
    "    plt.plot(history.history[train_meas])\n",
    "    plt.plot(history.history[val_meas])\n",
    "\n",
    "    ylabel = str(train_meas).upper()\n",
    "    \n",
    "    \n",
    "    plt.title(title)\n",
    "    plt.ylabel(ylabel)\n",
    "    plt.xlabel('EPOCH')\n",
    "    plt.legend([train_meas, val_meas], loc='lower right')\n",
    "    plt.show()\n"
   ]
  },
  {
   "cell_type": "code",
   "execution_count": 49,
   "metadata": {},
   "outputs": [
    {
     "data": {
      "image/png": "[encoded data removed]",
      "text/plain": [
       "<Figure size 432x288 with 1 Axes>"
      ]
     },
     "metadata": {
      "needs_background": "light"
     },
     "output_type": "display_data"
    }
   ],
   "source": [
    "render_model_metrics('LABEL ACCURACY', 'pred_label_accuracy', 'val_pred_label_accuracy')"
   ]
  },
  {
   "cell_type": "code",
   "execution_count": 50,
   "metadata": {},
   "outputs": [
    {
     "data": {
      "image/png": "[encoded data removed]",
      "text/plain": [
       "<Figure size 432x288 with 1 Axes>"
      ]
     },
     "metadata": {
      "needs_background": "light"
     },
     "output_type": "display_data"
    }
   ],
   "source": [
    "render_model_metrics('COUNT ACCURACY', 'pred_count_accuracy', 'val_pred_count_accuracy')"
   ]
  },
  {
   "cell_type": "markdown",
   "metadata": {},
   "source": [
    "## Predictions Y_preds for X_test"
   ]
  },
  {
   "cell_type": "code",
   "execution_count": 51,
   "metadata": {},
   "outputs": [],
   "source": [
    "TEST_SLICE = 8\n",
    "def create_test_random(X_pool, Y_pool):\n",
    "    assert isinstance(X_pool, pd.DataFrame), \"X input should be a pandas dataframe\"\n",
    "    assert isinstance(Y_pool, pd.DataFrame), \"Y input should be a pandas dataframe\"\n",
    "    XY_pool = X_pool.join(Y_pool)\n",
    "    XY_test = XY_pool.sample(TEST_SLICE)\n",
    "    X_test  = XY_test.iloc[:,0:SEQUENCE_LEN]\n",
    "    Y_test  = XY_test.iloc[:,SEQUENCE_LEN:]\n",
    "    print(\"X_test:\", X_test.shape)\n",
    "    print(\"Y_test:\", Y_test.shape)\n",
    "\n",
    "    return(X_test , Y_test )\n",
    "    "
   ]
  },
  {
   "cell_type": "code",
   "execution_count": 52,
   "metadata": {},
   "outputs": [
    {
     "name": "stdout",
     "output_type": "stream",
     "text": [
      "X_test: (6, 2000)\n",
      "Y_test: (6, 8)\n"
     ]
    }
   ],
   "source": [
    "X_test , Y_test  = create_test_random(X_pool, Y_pool)"
   ]
  },
  {
   "cell_type": "code",
   "execution_count": 53,
   "metadata": {},
   "outputs": [],
   "source": [
    "def make_prediction(X_test):\n",
    "    Y_preds = model.predict(X_test)\n",
    "    print(\"Y_preds[0]:{} {}\\nY_preds_count:{} {}\".format(\n",
    "        type(Y_preds[0]), Y_preds[0].shape, type(Y_preds[1]), Y_preds[1].shape))\n",
    "    return Y_preds"
   ]
  },
  {
   "cell_type": "code",
   "execution_count": 54,
   "metadata": {
    "scrolled": true
   },
   "outputs": [
    {
     "name": "stdout",
     "output_type": "stream",
     "text": [
      "Y_preds[0]:<class 'numpy.ndarray'> (6, 8)\n",
      "Y_preds_count:<class 'numpy.ndarray'> (6, 8)\n"
     ]
    }
   ],
   "source": [
    "Y_preds = make_prediction(X_test)"
   ]
  },
  {
   "cell_type": "markdown",
   "metadata": {},
   "source": [
    "## Results"
   ]
  },
  {
   "cell_type": "code",
   "execution_count": 55,
   "metadata": {},
   "outputs": [],
   "source": [
    "def get_true_labels(test):\n",
    "    true =[i for i in test.to_numpy()]\n",
    "    true = np.array(true)\n",
    "    \n",
    "    true_labels = []\n",
    "    for i, row in enumerate(true):\n",
    "        arr = []\n",
    "        for j, val in enumerate(row):\n",
    "            if val==1:\n",
    "                arr.append(genres[j])\n",
    "        true_labels.append(arr)\n",
    "    return true_labels"
   ]
  },
  {
   "cell_type": "code",
   "execution_count": 56,
   "metadata": {},
   "outputs": [],
   "source": [
    "def get_pred_counts(counts):\n",
    "    per_row_sum = [round((sum(row, 0))) for row in counts]\n",
    "    #print(\"counts_prediction per_row_sum:\", per_row_sum, \"row_count: \", len(counts))\n",
    "    assert (sum(per_row_sum)/len(counts)==1), \"label_counts prabablity dists do not add to 100%\"\n",
    "    \n",
    "    pred_counts = np.argmax(counts, axis=1)\n",
    "    #print(\"labels counts model output -> argmax:{}\\n{}\".format(pred_counts, counts))\n",
    "    return pred_counts"
   ]
  },
  {
   "cell_type": "code",
   "execution_count": 57,
   "metadata": {},
   "outputs": [],
   "source": [
    "def get_pred_labels(labels):    \n",
    "    labels_sorted_idx = np.argsort(-labels)\n",
    "    labels_sorted = -np.sort(-labels)\n",
    "    \n",
    "    pred_counts = get_pred_counts(Y_preds[1])\n",
    "            \n",
    "    pred_labels = []\n",
    "    for i, row_vals in enumerate(labels_sorted):\n",
    "        #print(\"model output labels_sorted sample#{}\\n{}\".format( i, labels_sorted[i]))\n",
    "        #print(\"labels_sorted idx\\n{}\".format(labels_sorted_idx[i]))\n",
    "        #print(\"----------------------------\")\n",
    "        arr = []\n",
    "        for j, row_val in enumerate(row_vals):\n",
    "            label_idx = labels_sorted_idx[i,j]\n",
    "            arr.append(genres[label_idx])\n",
    "            if j+1== pred_counts[i]: break\n",
    "        pred_labels.append(arr)\n",
    "\n",
    "    return pred_labels"
   ]
  },
  {
   "cell_type": "code",
   "execution_count": 58,
   "metadata": {},
   "outputs": [],
   "source": [
    "def print_final_results(test, preds):\n",
    "    \n",
    "    pred_labels = get_pred_labels(preds[0])\n",
    "    pred_counts = [len(row) for row in pred_labels]\n",
    "    \n",
    "    true_labels = get_true_labels(test)   \n",
    "    true_counts = [len(row) for row in true_labels]\n",
    "\n",
    "    df_results = pd.DataFrame(columns=[\"true_labels\", \"pred_labels\", \"true_counts\", \"pred_counts\"])\n",
    "    df_results[\"true_labels\"] = true_labels\n",
    "    df_results[\"pred_labels\"] = pred_labels\n",
    "    df_results[\"true_counts\"] = true_counts\n",
    "    df_results[\"pred_counts\"] = pred_counts\n",
    "    return df_results"
   ]
  },
  {
   "cell_type": "code",
   "execution_count": 59,
   "metadata": {
    "scrolled": true
   },
   "outputs": [],
   "source": [
    "df_results = print_final_results(Y_test, Y_preds)"
   ]
  },
  {
   "cell_type": "code",
   "execution_count": 60,
   "metadata": {},
   "outputs": [
    {
     "data": {
      "text/html": [
       "<div>\n",
       "<style scoped>\n",
       "    .dataframe tbody tr th:only-of-type {\n",
       "        vertical-align: middle;\n",
       "    }\n",
       "\n",
       "    .dataframe tbody tr th {\n",
       "        vertical-align: top;\n",
       "    }\n",
       "\n",
       "    .dataframe thead th {\n",
       "        text-align: right;\n",
       "    }\n",
       "</style>\n",
       "<table border=\"1\" class=\"dataframe\">\n",
       "  <thead>\n",
       "    <tr style=\"text-align: right;\">\n",
       "      <th></th>\n",
       "      <th>true_labels</th>\n",
       "      <th>pred_labels</th>\n",
       "      <th>true_counts</th>\n",
       "      <th>pred_counts</th>\n",
       "    </tr>\n",
       "  </thead>\n",
       "  <tbody>\n",
       "    <tr>\n",
       "      <th>0</th>\n",
       "      <td>[Drama]</td>\n",
       "      <td>[Drama]</td>\n",
       "      <td>1</td>\n",
       "      <td>1</td>\n",
       "    </tr>\n",
       "    <tr>\n",
       "      <th>1</th>\n",
       "      <td>[Action, Comedy, Crime Fiction, Thriller]</td>\n",
       "      <td>[Thriller, Action, Crime Fiction]</td>\n",
       "      <td>4</td>\n",
       "      <td>3</td>\n",
       "    </tr>\n",
       "    <tr>\n",
       "      <th>2</th>\n",
       "      <td>[Horror]</td>\n",
       "      <td>[Drama]</td>\n",
       "      <td>1</td>\n",
       "      <td>1</td>\n",
       "    </tr>\n",
       "    <tr>\n",
       "      <th>3</th>\n",
       "      <td>[Comedy]</td>\n",
       "      <td>[Comedy]</td>\n",
       "      <td>1</td>\n",
       "      <td>1</td>\n",
       "    </tr>\n",
       "    <tr>\n",
       "      <th>4</th>\n",
       "      <td>[Comedy]</td>\n",
       "      <td>[Comedy]</td>\n",
       "      <td>1</td>\n",
       "      <td>1</td>\n",
       "    </tr>\n",
       "    <tr>\n",
       "      <th>5</th>\n",
       "      <td>[Drama]</td>\n",
       "      <td>[Drama, Romance Film]</td>\n",
       "      <td>1</td>\n",
       "      <td>2</td>\n",
       "    </tr>\n",
       "  </tbody>\n",
       "</table>\n",
       "</div>"
      ],
      "text/plain": [
       "                                 true_labels  \\\n",
       "0                                    [Drama]   \n",
       "1  [Action, Comedy, Crime Fiction, Thriller]   \n",
       "2                                   [Horror]   \n",
       "3                                   [Comedy]   \n",
       "4                                   [Comedy]   \n",
       "5                                    [Drama]   \n",
       "\n",
       "                         pred_labels  true_counts  pred_counts  \n",
       "0                            [Drama]            1            1  \n",
       "1  [Thriller, Action, Crime Fiction]            4            3  \n",
       "2                            [Drama]            1            1  \n",
       "3                           [Comedy]            1            1  \n",
       "4                           [Comedy]            1            1  \n",
       "5              [Drama, Romance Film]            1            2  "
      ]
     },
     "execution_count": 60,
     "metadata": {},
     "output_type": "execute_result"
    }
   ],
   "source": [
    "df_results"
   ]
  },
  {
   "cell_type": "markdown",
   "metadata": {},
   "source": [
    "#### Training Parms\n",
    "* VOCAB_WORDLIMIT = 100,000\n",
    "* SEQUENCE_LEN = 2000\n",
    "* EMBD_SIZE = 100\n",
    "* BATCH_SIZE = 32\n",
    "* EPOCHS = 4\n",
    "* LEARNING_RATE = 1e-3\n",
    "\n",
    "* total dataset items -> 34561\n",
    "* traning size -> used:32832, remaing:1729, training/validation split 80/20"
   ]
  },
  {
   "cell_type": "code",
   "execution_count": null,
   "metadata": {},
   "outputs": [],
   "source": []
  },
  {
   "cell_type": "code",
   "execution_count": null,
   "metadata": {},
   "outputs": [],
   "source": []
  }
 ],
 "metadata": {
  "kernelspec": {
   "display_name": "deep",
   "language": "python",
   "name": "deep"
  },
  "language_info": {
   "codemirror_mode": {
    "name": "ipython",
    "version": 3
   },
   "file_extension": ".py",
   "mimetype": "text/x-python",
   "name": "python",
   "nbconvert_exporter": "python",
   "pygments_lexer": "ipython3",
   "version": "3.7.6"
  }
 },
 "nbformat": 4,
 "nbformat_minor": 4
}
